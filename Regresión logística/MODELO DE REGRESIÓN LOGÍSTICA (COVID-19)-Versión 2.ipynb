{
 "cells": [
  {
   "cell_type": "markdown",
   "id": "a6ba2c4c",
   "metadata": {},
   "source": [
    "#                   MODELO DE REGRESIÓN LOGÍSTICA (COVID-19)\n",
    " "
   ]
  },
  {
   "cell_type": "code",
   "execution_count": 2,
   "id": "7131ad15",
   "metadata": {},
   "outputs": [],
   "source": [
    "import pandas as pd\n",
    "import numpy as np\n",
    "import matplotlib.pyplot as plt"
   ]
  },
  {
   "cell_type": "code",
   "execution_count": 3,
   "id": "5eaab27a",
   "metadata": {},
   "outputs": [],
   "source": [
    "data = pd.read_csv(\"Valoración de las clases en modalidad virtual (versión 2).csv\", sep=\",\")\n",
    "data[\"REPROBADAS\"]= np.where(data[\"REPROBADAS\"]==\"1\" , \"yes\", data[\"REPROBADAS\"])\n",
    "data[\"REPROBADAS\"]= np.where(data[\"REPROBADAS\"]==\"2\" , \"yes\", data[\"REPROBADAS\"])\n",
    "data[\"REPROBADAS\"]= np.where(data[\"REPROBADAS\"]==\"3\" , \"yes\", data[\"REPROBADAS\"])\n",
    "data[\"REPROBADAS\"]= np.where(data[\"REPROBADAS\"]==\"4\" , \"yes\", data[\"REPROBADAS\"])\n",
    "data[\"REPROBADAS\"]= np.where(data[\"REPROBADAS\"]==\"5\" , \"yes\", data[\"REPROBADAS\"])\n",
    "data[\"REPROBADAS\"]= np.where(data[\"REPROBADAS\"]==\"6\" , \"yes\", data[\"REPROBADAS\"])\n",
    "data[\"REPROBADAS\"]= np.where(data[\"REPROBADAS\"]==\"7\" , \"yes\", data[\"REPROBADAS\"])\n",
    "data[\"REPROBADAS\"]= np.where(data[\"REPROBADAS\"]==\"8\" , \"yes\", data[\"REPROBADAS\"])\n",
    "data[\"REPROBADAS\"]= np.where(data[\"REPROBADAS\"]==\"9\" , \"yes\", data[\"REPROBADAS\"])\n",
    "data[\"REPROBADAS\"]= np.where(data[\"REPROBADAS\"]==\"0\" , \"no\", data[\"REPROBADAS\"])\n",
    "data[\"REPROBADAS\"]= np.where(data[\"REPROBADAS\"]==\"1\" , \"yes\", data[\"REPROBADAS\"])"
   ]
  },
  {
   "cell_type": "code",
   "execution_count": 4,
   "id": "d2936be8",
   "metadata": {},
   "outputs": [
    {
     "data": {
      "text/html": [
       "<div>\n",
       "<style scoped>\n",
       "    .dataframe tbody tr th:only-of-type {\n",
       "        vertical-align: middle;\n",
       "    }\n",
       "\n",
       "    .dataframe tbody tr th {\n",
       "        vertical-align: top;\n",
       "    }\n",
       "\n",
       "    .dataframe thead th {\n",
       "        text-align: right;\n",
       "    }\n",
       "</style>\n",
       "<table border=\"1\" class=\"dataframe\">\n",
       "  <thead>\n",
       "    <tr style=\"text-align: right;\">\n",
       "      <th></th>\n",
       "      <th>SEMESTRE</th>\n",
       "      <th>EDAD</th>\n",
       "      <th>SEXO</th>\n",
       "      <th>MINORIA</th>\n",
       "      <th>ESTADO CIVIL</th>\n",
       "      <th>ZONA Rural</th>\n",
       "      <th>NÚMERO DE PERSONAS EN EL HOGAR</th>\n",
       "      <th>INGRESOS</th>\n",
       "      <th>AFECTACIÓN ECONÓMICA</th>\n",
       "      <th>EDUCACIÓN PADRE</th>\n",
       "      <th>...</th>\n",
       "      <th>TRATAMIENTO</th>\n",
       "      <th>POSITIVO A COVID</th>\n",
       "      <th>DECESOS</th>\n",
       "      <th>CONTACTO CON AMIGOS</th>\n",
       "      <th>REPROBADAS</th>\n",
       "      <th>CALIFICACIONES</th>\n",
       "      <th>TIEMPO DE ESTUDIO</th>\n",
       "      <th>BAJA T O D</th>\n",
       "      <th>REACCIÓN UAEH</th>\n",
       "      <th>CONDICIONES</th>\n",
       "    </tr>\n",
       "  </thead>\n",
       "  <tbody>\n",
       "    <tr>\n",
       "      <th>0</th>\n",
       "      <td>7</td>\n",
       "      <td>22</td>\n",
       "      <td>Masculino</td>\n",
       "      <td>0</td>\n",
       "      <td>Soltera(o)</td>\n",
       "      <td>0</td>\n",
       "      <td>6</td>\n",
       "      <td>3</td>\n",
       "      <td>0</td>\n",
       "      <td>1</td>\n",
       "      <td>...</td>\n",
       "      <td>0</td>\n",
       "      <td>0</td>\n",
       "      <td>0</td>\n",
       "      <td>2</td>\n",
       "      <td>0</td>\n",
       "      <td>3</td>\n",
       "      <td>1</td>\n",
       "      <td>1</td>\n",
       "      <td>3</td>\n",
       "      <td>0</td>\n",
       "    </tr>\n",
       "    <tr>\n",
       "      <th>1</th>\n",
       "      <td>2</td>\n",
       "      <td>18</td>\n",
       "      <td>Masculino</td>\n",
       "      <td>0</td>\n",
       "      <td>Soltera(o)</td>\n",
       "      <td>0</td>\n",
       "      <td>5</td>\n",
       "      <td>4</td>\n",
       "      <td>1</td>\n",
       "      <td>4</td>\n",
       "      <td>...</td>\n",
       "      <td>1</td>\n",
       "      <td>0</td>\n",
       "      <td>0</td>\n",
       "      <td>5</td>\n",
       "      <td>0</td>\n",
       "      <td>2</td>\n",
       "      <td>1</td>\n",
       "      <td>1</td>\n",
       "      <td>4</td>\n",
       "      <td>0</td>\n",
       "    </tr>\n",
       "    <tr>\n",
       "      <th>2</th>\n",
       "      <td>2</td>\n",
       "      <td>19</td>\n",
       "      <td>Masculino</td>\n",
       "      <td>0</td>\n",
       "      <td>Soltera(o)</td>\n",
       "      <td>0</td>\n",
       "      <td>4</td>\n",
       "      <td>2</td>\n",
       "      <td>0</td>\n",
       "      <td>4</td>\n",
       "      <td>...</td>\n",
       "      <td>0</td>\n",
       "      <td>1</td>\n",
       "      <td>0</td>\n",
       "      <td>5</td>\n",
       "      <td>1</td>\n",
       "      <td>2</td>\n",
       "      <td>3</td>\n",
       "      <td>0</td>\n",
       "      <td>4</td>\n",
       "      <td>1</td>\n",
       "    </tr>\n",
       "    <tr>\n",
       "      <th>3</th>\n",
       "      <td>2</td>\n",
       "      <td>18</td>\n",
       "      <td>Femenino</td>\n",
       "      <td>0</td>\n",
       "      <td>Soltera(o)</td>\n",
       "      <td>1</td>\n",
       "      <td>2</td>\n",
       "      <td>3</td>\n",
       "      <td>0</td>\n",
       "      <td>3</td>\n",
       "      <td>...</td>\n",
       "      <td>0</td>\n",
       "      <td>0</td>\n",
       "      <td>0</td>\n",
       "      <td>2</td>\n",
       "      <td>0</td>\n",
       "      <td>3</td>\n",
       "      <td>3</td>\n",
       "      <td>0</td>\n",
       "      <td>5</td>\n",
       "      <td>1</td>\n",
       "    </tr>\n",
       "    <tr>\n",
       "      <th>4</th>\n",
       "      <td>2</td>\n",
       "      <td>19</td>\n",
       "      <td>Masculino</td>\n",
       "      <td>0</td>\n",
       "      <td>Soltera(o)</td>\n",
       "      <td>1</td>\n",
       "      <td>5</td>\n",
       "      <td>2</td>\n",
       "      <td>0</td>\n",
       "      <td>1</td>\n",
       "      <td>...</td>\n",
       "      <td>0</td>\n",
       "      <td>1</td>\n",
       "      <td>0</td>\n",
       "      <td>2</td>\n",
       "      <td>0</td>\n",
       "      <td>2</td>\n",
       "      <td>1</td>\n",
       "      <td>1</td>\n",
       "      <td>4</td>\n",
       "      <td>0</td>\n",
       "    </tr>\n",
       "  </tbody>\n",
       "</table>\n",
       "<p>5 rows × 30 columns</p>\n",
       "</div>"
      ],
      "text/plain": [
       "   SEMESTRE  EDAD       SEXO  MINORIA ESTADO CIVIL  ZONA Rural  \\\n",
       "0         7    22  Masculino        0   Soltera(o)           0   \n",
       "1         2    18  Masculino        0   Soltera(o)           0   \n",
       "2         2    19  Masculino        0   Soltera(o)           0   \n",
       "3         2    18   Femenino        0   Soltera(o)           1   \n",
       "4         2    19  Masculino        0   Soltera(o)           1   \n",
       "\n",
       "   NÚMERO DE PERSONAS EN EL HOGAR  INGRESOS  AFECTACIÓN ECONÓMICA  \\\n",
       "0                               6         3                     0   \n",
       "1                               5         4                     1   \n",
       "2                               4         2                     0   \n",
       "3                               2         3                     0   \n",
       "4                               5         2                     0   \n",
       "\n",
       "   EDUCACIÓN PADRE  ...  TRATAMIENTO POSITIVO A COVID DECESOS  \\\n",
       "0                1  ...            0                0       0   \n",
       "1                4  ...            1                0       0   \n",
       "2                4  ...            0                1       0   \n",
       "3                3  ...            0                0       0   \n",
       "4                1  ...            0                1       0   \n",
       "\n",
       "   CONTACTO CON AMIGOS  REPROBADAS  CALIFICACIONES  TIEMPO DE ESTUDIO  \\\n",
       "0                    2           0               3                  1   \n",
       "1                    5           0               2                  1   \n",
       "2                    5           1               2                  3   \n",
       "3                    2           0               3                  3   \n",
       "4                    2           0               2                  1   \n",
       "\n",
       "   BAJA T O D  REACCIÓN UAEH  CONDICIONES  \n",
       "0           1              3            0  \n",
       "1           1              4            0  \n",
       "2           0              4            1  \n",
       "3           0              5            1  \n",
       "4           1              4            0  \n",
       "\n",
       "[5 rows x 30 columns]"
      ]
     },
     "execution_count": 4,
     "metadata": {},
     "output_type": "execute_result"
    }
   ],
   "source": [
    "data[\"REPROBADAS\"]=(data[\"REPROBADAS\"]==\"yes\").astype(int)\n",
    "data.head()\n"
   ]
  },
  {
   "cell_type": "markdown",
   "id": "51a2e98a",
   "metadata": {},
   "source": [
    "# Conversión de las variables categoricas a variables dummies"
   ]
  },
  {
   "cell_type": "code",
   "execution_count": 5,
   "id": "a55c28e4",
   "metadata": {},
   "outputs": [
    {
     "data": {
      "text/plain": [
       "['SEMESTRE',\n",
       " 'EDAD',\n",
       " 'MINORIA',\n",
       " 'ZONA Rural',\n",
       " 'NÚMERO DE PERSONAS EN EL HOGAR',\n",
       " 'INGRESOS',\n",
       " 'AFECTACIÓN ECONÓMICA',\n",
       " 'EDUCACIÓN PADRE',\n",
       " 'EDUCACIÓN MADRE',\n",
       " 'FUNCIONALIDAD DEL DISPOSITIVO',\n",
       " 'AMBIENTE',\n",
       " 'SEÑAL',\n",
       " 'ACTIVIDAD EXTRA',\n",
       " 'ESTRÉS',\n",
       " 'DEPRESIÓN',\n",
       " 'ANSIEDAD',\n",
       " 'TRATAMIENTO',\n",
       " 'POSITIVO A COVID',\n",
       " 'DECESOS',\n",
       " 'CONTACTO CON AMIGOS',\n",
       " 'CALIFICACIONES',\n",
       " 'TIEMPO DE ESTUDIO',\n",
       " 'BAJA T O D',\n",
       " 'REACCIÓN UAEH',\n",
       " 'CONDICIONES',\n",
       " 'cat_SEXO_Femenino',\n",
       " 'cat_SEXO_Masculino',\n",
       " 'cat_ESTADO CIVIL_Casada(o)',\n",
       " 'cat_ESTADO CIVIL_Soltera(o)',\n",
       " 'cat_DISPOSITIVO_Computadora de escritorio',\n",
       " 'cat_DISPOSITIVO_Laptop',\n",
       " 'cat_DISPOSITIVO_Smartphone',\n",
       " 'cat_TIPO DE POSESIÓN_Ciber',\n",
       " 'cat_TIPO DE POSESIÓN_Prestado']"
      ]
     },
     "execution_count": 5,
     "metadata": {},
     "output_type": "execute_result"
    }
   ],
   "source": [
    "import pandas as pd\n",
    "categories=[\"SEXO\",\"ESTADO CIVIL\", \"DISPOSITIVO\", \"TIPO DE POSESIÓN\"]\n",
    "for category in categories:\n",
    "    cat_list= \"cat\"+ \"_\" +category\n",
    "    cat_dummies = pd.get_dummies(data[category], prefix=cat_list)\n",
    "    data_new=data.join(cat_dummies)\n",
    "    data=data_new\n",
    "    data_vars=data.columns.values.tolist()\n",
    "to_keep= [v for v in data_vars if v not in categories]\n",
    "bank_data=data[to_keep]\n",
    "bank_data.columns.values\n",
    "bank_data\n",
    "bank_data_vars =bank_data.columns.values.tolist()\n",
    "Y=[\"REPROBADAS\"]\n",
    "\n",
    "eliminar=[\"cat_SEXO_Otro\",\"cat_MINORIA_No\",\"cat_ESTADO CIVIL_Unión libre\",\"cat_ZONA_Urbana\",\"cat_INGRESOS_Más de $12000\", \n",
    "         \"cat_AFECTACIÓN ECONÓMICA_No\", \"cat_EDUCACIÓN PADRE_Superior\",\"cat_EDUCACIÓN MADRE_No puedo/quiero responder\",\n",
    "          \"cat_DISPOSITIVO_Tableta\",\"cat_TIPO DE POSESIÓN_Propio\",\"cat_ACTIVIDAD EXTRA_No\", \n",
    "          \"cat_POSITIVO A COVID_No quiero responder\", \"cat_DECESOS_No quiero responder\", \"cat_CALIFICACIONES_Iguales\", \n",
    "          \"cat_TIEMPO DE ESTUDIO_Iguales\",\"cat_TRATAMIENTO_No\", \"cat_BAJA T O D_No\", \"cat_CONDICIONES_No\"]\n",
    "X=[v for v in bank_data_vars if v not in Y and v not in eliminar]"
   ]
  },
  {
   "cell_type": "markdown",
   "id": "10a23299",
   "metadata": {},
   "source": [
    "# Selección de rasgos para el modelo"
   ]
  },
  {
   "cell_type": "code",
   "execution_count": 7,
   "id": "33a2614a",
   "metadata": {},
   "outputs": [
    {
     "data": {
      "text/html": [
       "<div>\n",
       "<style scoped>\n",
       "    .dataframe tbody tr th:only-of-type {\n",
       "        vertical-align: middle;\n",
       "    }\n",
       "\n",
       "    .dataframe tbody tr th {\n",
       "        vertical-align: top;\n",
       "    }\n",
       "\n",
       "    .dataframe thead th {\n",
       "        text-align: right;\n",
       "    }\n",
       "</style>\n",
       "<table border=\"1\" class=\"dataframe\">\n",
       "  <thead>\n",
       "    <tr style=\"text-align: right;\">\n",
       "      <th></th>\n",
       "      <th>0</th>\n",
       "      <th>1</th>\n",
       "    </tr>\n",
       "  </thead>\n",
       "  <tbody>\n",
       "    <tr>\n",
       "      <th>0</th>\n",
       "      <td>2</td>\n",
       "      <td>SEMESTRE</td>\n",
       "    </tr>\n",
       "    <tr>\n",
       "      <th>1</th>\n",
       "      <td>1</td>\n",
       "      <td>EDAD</td>\n",
       "    </tr>\n",
       "    <tr>\n",
       "      <th>2</th>\n",
       "      <td>17</td>\n",
       "      <td>MINORIA</td>\n",
       "    </tr>\n",
       "    <tr>\n",
       "      <th>3</th>\n",
       "      <td>8</td>\n",
       "      <td>ZONA Rural</td>\n",
       "    </tr>\n",
       "    <tr>\n",
       "      <th>4</th>\n",
       "      <td>13</td>\n",
       "      <td>NÚMERO DE PERSONAS EN EL HOGAR</td>\n",
       "    </tr>\n",
       "    <tr>\n",
       "      <th>5</th>\n",
       "      <td>15</td>\n",
       "      <td>INGRESOS</td>\n",
       "    </tr>\n",
       "    <tr>\n",
       "      <th>6</th>\n",
       "      <td>1</td>\n",
       "      <td>AFECTACIÓN ECONÓMICA</td>\n",
       "    </tr>\n",
       "    <tr>\n",
       "      <th>7</th>\n",
       "      <td>14</td>\n",
       "      <td>EDUCACIÓN PADRE</td>\n",
       "    </tr>\n",
       "    <tr>\n",
       "      <th>8</th>\n",
       "      <td>3</td>\n",
       "      <td>EDUCACIÓN MADRE</td>\n",
       "    </tr>\n",
       "    <tr>\n",
       "      <th>9</th>\n",
       "      <td>19</td>\n",
       "      <td>FUNCIONALIDAD DEL DISPOSITIVO</td>\n",
       "    </tr>\n",
       "    <tr>\n",
       "      <th>10</th>\n",
       "      <td>5</td>\n",
       "      <td>AMBIENTE</td>\n",
       "    </tr>\n",
       "    <tr>\n",
       "      <th>11</th>\n",
       "      <td>4</td>\n",
       "      <td>SEÑAL</td>\n",
       "    </tr>\n",
       "    <tr>\n",
       "      <th>12</th>\n",
       "      <td>6</td>\n",
       "      <td>ACTIVIDAD EXTRA</td>\n",
       "    </tr>\n",
       "    <tr>\n",
       "      <th>13</th>\n",
       "      <td>23</td>\n",
       "      <td>ESTRÉS</td>\n",
       "    </tr>\n",
       "    <tr>\n",
       "      <th>14</th>\n",
       "      <td>7</td>\n",
       "      <td>DEPRESIÓN</td>\n",
       "    </tr>\n",
       "    <tr>\n",
       "      <th>15</th>\n",
       "      <td>22</td>\n",
       "      <td>ANSIEDAD</td>\n",
       "    </tr>\n",
       "    <tr>\n",
       "      <th>16</th>\n",
       "      <td>12</td>\n",
       "      <td>TRATAMIENTO</td>\n",
       "    </tr>\n",
       "    <tr>\n",
       "      <th>17</th>\n",
       "      <td>21</td>\n",
       "      <td>POSITIVO A COVID</td>\n",
       "    </tr>\n",
       "    <tr>\n",
       "      <th>18</th>\n",
       "      <td>20</td>\n",
       "      <td>DECESOS</td>\n",
       "    </tr>\n",
       "    <tr>\n",
       "      <th>19</th>\n",
       "      <td>10</td>\n",
       "      <td>CONTACTO CON AMIGOS</td>\n",
       "    </tr>\n",
       "    <tr>\n",
       "      <th>20</th>\n",
       "      <td>1</td>\n",
       "      <td>CALIFICACIONES</td>\n",
       "    </tr>\n",
       "    <tr>\n",
       "      <th>21</th>\n",
       "      <td>1</td>\n",
       "      <td>TIEMPO DE ESTUDIO</td>\n",
       "    </tr>\n",
       "    <tr>\n",
       "      <th>22</th>\n",
       "      <td>1</td>\n",
       "      <td>BAJA T O D</td>\n",
       "    </tr>\n",
       "    <tr>\n",
       "      <th>23</th>\n",
       "      <td>1</td>\n",
       "      <td>REACCIÓN UAEH</td>\n",
       "    </tr>\n",
       "    <tr>\n",
       "      <th>24</th>\n",
       "      <td>16</td>\n",
       "      <td>CONDICIONES</td>\n",
       "    </tr>\n",
       "    <tr>\n",
       "      <th>25</th>\n",
       "      <td>1</td>\n",
       "      <td>cat_SEXO_Femenino</td>\n",
       "    </tr>\n",
       "    <tr>\n",
       "      <th>26</th>\n",
       "      <td>18</td>\n",
       "      <td>cat_SEXO_Masculino</td>\n",
       "    </tr>\n",
       "    <tr>\n",
       "      <th>27</th>\n",
       "      <td>1</td>\n",
       "      <td>cat_ESTADO CIVIL_Casada(o)</td>\n",
       "    </tr>\n",
       "    <tr>\n",
       "      <th>28</th>\n",
       "      <td>1</td>\n",
       "      <td>cat_ESTADO CIVIL_Soltera(o)</td>\n",
       "    </tr>\n",
       "    <tr>\n",
       "      <th>29</th>\n",
       "      <td>1</td>\n",
       "      <td>cat_DISPOSITIVO_Computadora de escritorio</td>\n",
       "    </tr>\n",
       "    <tr>\n",
       "      <th>30</th>\n",
       "      <td>1</td>\n",
       "      <td>cat_DISPOSITIVO_Laptop</td>\n",
       "    </tr>\n",
       "    <tr>\n",
       "      <th>31</th>\n",
       "      <td>9</td>\n",
       "      <td>cat_DISPOSITIVO_Smartphone</td>\n",
       "    </tr>\n",
       "    <tr>\n",
       "      <th>32</th>\n",
       "      <td>1</td>\n",
       "      <td>cat_TIPO DE POSESIÓN_Ciber</td>\n",
       "    </tr>\n",
       "    <tr>\n",
       "      <th>33</th>\n",
       "      <td>11</td>\n",
       "      <td>cat_TIPO DE POSESIÓN_Prestado</td>\n",
       "    </tr>\n",
       "  </tbody>\n",
       "</table>\n",
       "</div>"
      ],
      "text/plain": [
       "     0                                          1\n",
       "0    2                                   SEMESTRE\n",
       "1    1                                       EDAD\n",
       "2   17                                    MINORIA\n",
       "3    8                                 ZONA Rural\n",
       "4   13             NÚMERO DE PERSONAS EN EL HOGAR\n",
       "5   15                                   INGRESOS\n",
       "6    1                       AFECTACIÓN ECONÓMICA\n",
       "7   14                            EDUCACIÓN PADRE\n",
       "8    3                            EDUCACIÓN MADRE\n",
       "9   19              FUNCIONALIDAD DEL DISPOSITIVO\n",
       "10   5                                   AMBIENTE\n",
       "11   4                                      SEÑAL\n",
       "12   6                            ACTIVIDAD EXTRA\n",
       "13  23                                     ESTRÉS\n",
       "14   7                                  DEPRESIÓN\n",
       "15  22                                   ANSIEDAD\n",
       "16  12                                TRATAMIENTO\n",
       "17  21                           POSITIVO A COVID\n",
       "18  20                                    DECESOS\n",
       "19  10                        CONTACTO CON AMIGOS\n",
       "20   1                             CALIFICACIONES\n",
       "21   1                          TIEMPO DE ESTUDIO\n",
       "22   1                                 BAJA T O D\n",
       "23   1                              REACCIÓN UAEH\n",
       "24  16                                CONDICIONES\n",
       "25   1                          cat_SEXO_Femenino\n",
       "26  18                         cat_SEXO_Masculino\n",
       "27   1                 cat_ESTADO CIVIL_Casada(o)\n",
       "28   1                cat_ESTADO CIVIL_Soltera(o)\n",
       "29   1  cat_DISPOSITIVO_Computadora de escritorio\n",
       "30   1                     cat_DISPOSITIVO_Laptop\n",
       "31   9                 cat_DISPOSITIVO_Smartphone\n",
       "32   1                 cat_TIPO DE POSESIÓN_Ciber\n",
       "33  11              cat_TIPO DE POSESIÓN_Prestado"
      ]
     },
     "execution_count": 7,
     "metadata": {},
     "output_type": "execute_result"
    }
   ],
   "source": [
    "from sklearn import datasets\n",
    "from sklearn.feature_selection import RFE\n",
    "from sklearn.linear_model import LogisticRegression\n",
    "n=12\n",
    "lr=LogisticRegression()\n",
    "rfe= RFE(lr,n)\n",
    "rfe=rfe.fit(bank_data[X], bank_data[Y])\n",
    "R=rfe.ranking_\n",
    "M=np.asarray(list(zip(R,X)))\n",
    "M=pd.DataFrame(M)\n",
    "M"
   ]
  },
  {
   "cell_type": "code",
   "execution_count": 212,
   "id": "e2e40e27",
   "metadata": {},
   "outputs": [],
   "source": [
    "cols= \"[\"\n",
    "contador=1\n",
    "for renglones in range (0,33):\n",
    "    for columnas in range (0,1):\n",
    "        if M[columnas][renglones]==\"1\":\n",
    "            if contador == 1:\n",
    "                cols= cols + '\"'+ M[1][renglones]+ '\"'  \n",
    "                contador=2\n",
    "            else:\n",
    "                cols= cols+','+'\"'+M[1][renglones]+'\"'  \n",
    "            \n",
    "cols=cols+ \"]\"\n",
    "cols=[\"SEMESTRE\",\"EDAD\",\"AFECTACIÓN ECONÓMICA\",\"CALIFICACIONES\",\"TIEMPO DE ESTUDIO\",\"BAJA T O D\",\"REACCIÓN UAEH\",\"cat_SEXO_Femenino\",\"cat_ESTADO CIVIL_Soltera(o)\",\"cat_DISPOSITIVO_Computadora de escritorio\",\"cat_DISPOSITIVO_Laptop\",\"cat_TIPO DE POSESIÓN_Ciber\"]"
   ]
  },
  {
   "cell_type": "code",
   "execution_count": 213,
   "id": "6df2e7f2",
   "metadata": {},
   "outputs": [],
   "source": [
    "X=bank_data[cols]\n",
    "Y=bank_data[\"REPROBADAS\"]\n"
   ]
  },
  {
   "cell_type": "markdown",
   "id": "76a053e5",
   "metadata": {},
   "source": [
    "# IMPLEMENTACIÓN DEL MODELO"
   ]
  },
  {
   "cell_type": "code",
   "execution_count": 214,
   "id": "614f3cc8",
   "metadata": {},
   "outputs": [
    {
     "name": "stdout",
     "output_type": "stream",
     "text": [
      "Optimization terminated successfully.\n",
      "         Current function value: 0.571077\n",
      "         Iterations 6\n"
     ]
    },
    {
     "data": {
      "text/html": [
       "<table class=\"simpletable\">\n",
       "<tr>\n",
       "        <td>Model:</td>              <td>Logit</td>      <td>Pseudo R-squared:</td>    <td>0.160</td>  \n",
       "</tr>\n",
       "<tr>\n",
       "  <td>Dependent Variable:</td>    <td>REPROBADAS</td>          <td>AIC:</td>         <td>476.2932</td> \n",
       "</tr>\n",
       "<tr>\n",
       "         <td>Date:</td>        <td>2022-01-10 10:49</td>       <td>BIC:</td>         <td>524.0702</td> \n",
       "</tr>\n",
       "<tr>\n",
       "   <td>No. Observations:</td>         <td>396</td>        <td>Log-Likelihood:</td>    <td>-226.15</td> \n",
       "</tr>\n",
       "<tr>\n",
       "       <td>Df Model:</td>             <td>11</td>            <td>LL-Null:</td>        <td>-269.29</td> \n",
       "</tr>\n",
       "<tr>\n",
       "     <td>Df Residuals:</td>           <td>384</td>         <td>LLR p-value:</td>    <td>8.8555e-14</td>\n",
       "</tr>\n",
       "<tr>\n",
       "      <td>Converged:</td>           <td>1.0000</td>           <td>Scale:</td>         <td>1.0000</td>  \n",
       "</tr>\n",
       "<tr>\n",
       "    <td>No. Iterations:</td>        <td>6.0000</td>              <td></td>               <td></td>     \n",
       "</tr>\n",
       "</table>\n",
       "<table class=\"simpletable\">\n",
       "<tr>\n",
       "                      <td></td>                       <th>Coef.</th>  <th>Std.Err.</th>    <th>z</th>     <th>P>|z|</th> <th>[0.025</th>  <th>0.975]</th> \n",
       "</tr>\n",
       "<tr>\n",
       "  <th>SEMESTRE</th>                                  <td>-0.1612</td>  <td>0.0602</td>  <td>-2.6777</td> <td>0.0074</td> <td>-0.2792</td> <td>-0.0432</td>\n",
       "</tr>\n",
       "<tr>\n",
       "  <th>EDAD</th>                                      <td>0.1244</td>   <td>0.0508</td>  <td>2.4486</td>  <td>0.0143</td> <td>0.0248</td>  <td>0.2240</td> \n",
       "</tr>\n",
       "<tr>\n",
       "  <th>AFECTACIÓN ECONÓMICA</th>                      <td>-0.7056</td>  <td>0.3261</td>  <td>-2.1637</td> <td>0.0305</td> <td>-1.3447</td> <td>-0.0664</td>\n",
       "</tr>\n",
       "<tr>\n",
       "  <th>CALIFICACIONES</th>                            <td>-1.1081</td>  <td>0.2192</td>  <td>-5.0547</td> <td>0.0000</td> <td>-1.5378</td> <td>-0.6785</td>\n",
       "</tr>\n",
       "<tr>\n",
       "  <th>TIEMPO DE ESTUDIO</th>                         <td>-0.3806</td>  <td>0.1202</td>  <td>-3.1671</td> <td>0.0015</td> <td>-0.6161</td> <td>-0.1451</td>\n",
       "</tr>\n",
       "<tr>\n",
       "  <th>BAJA T O D</th>                                <td>0.5101</td>   <td>0.2505</td>  <td>2.0367</td>  <td>0.0417</td> <td>0.0192</td>  <td>1.0010</td> \n",
       "</tr>\n",
       "<tr>\n",
       "  <th>REACCIÓN UAEH</th>                             <td>0.1766</td>   <td>0.1143</td>  <td>1.5456</td>  <td>0.1222</td> <td>-0.0474</td> <td>0.4006</td> \n",
       "</tr>\n",
       "<tr>\n",
       "  <th>cat_SEXO_Femenino</th>                         <td>-0.2924</td>  <td>0.2447</td>  <td>-1.1947</td> <td>0.2322</td> <td>-0.7720</td> <td>0.1873</td> \n",
       "</tr>\n",
       "<tr>\n",
       "  <th>cat_ESTADO CIVIL_Soltera(o)</th>               <td>0.2990</td>   <td>0.9136</td>  <td>0.3272</td>  <td>0.7435</td> <td>-1.4917</td> <td>2.0896</td> \n",
       "</tr>\n",
       "<tr>\n",
       "  <th>cat_DISPOSITIVO_Computadora de escritorio</th> <td>-0.7330</td>  <td>0.4054</td>  <td>-1.8081</td> <td>0.0706</td> <td>-1.5275</td> <td>0.0616</td> \n",
       "</tr>\n",
       "<tr>\n",
       "  <th>cat_DISPOSITIVO_Laptop</th>                    <td>-0.3410</td>  <td>0.2717</td>  <td>-1.2551</td> <td>0.2094</td> <td>-0.8734</td> <td>0.1915</td> \n",
       "</tr>\n",
       "<tr>\n",
       "  <th>cat_TIPO DE POSESIÓN_Ciber</th>                <td>0.6712</td>   <td>0.7092</td>  <td>0.9465</td>  <td>0.3439</td> <td>-0.7187</td> <td>2.0611</td> \n",
       "</tr>\n",
       "</table>"
      ],
      "text/plain": [
       "<class 'statsmodels.iolib.summary2.Summary'>\n",
       "\"\"\"\n",
       "                                     Results: Logit\n",
       "=========================================================================================\n",
       "Model:                      Logit                    Pseudo R-squared:         0.160     \n",
       "Dependent Variable:         REPROBADAS               AIC:                      476.2932  \n",
       "Date:                       2022-01-10 10:49         BIC:                      524.0702  \n",
       "No. Observations:           396                      Log-Likelihood:           -226.15   \n",
       "Df Model:                   11                       LL-Null:                  -269.29   \n",
       "Df Residuals:               384                      LLR p-value:              8.8555e-14\n",
       "Converged:                  1.0000                   Scale:                    1.0000    \n",
       "No. Iterations:             6.0000                                                       \n",
       "-----------------------------------------------------------------------------------------\n",
       "                                           Coef.  Std.Err.    z    P>|z|   [0.025  0.975]\n",
       "-----------------------------------------------------------------------------------------\n",
       "SEMESTRE                                  -0.1612   0.0602 -2.6777 0.0074 -0.2792 -0.0432\n",
       "EDAD                                       0.1244   0.0508  2.4486 0.0143  0.0248  0.2240\n",
       "AFECTACIÓN ECONÓMICA                      -0.7056   0.3261 -2.1637 0.0305 -1.3447 -0.0664\n",
       "CALIFICACIONES                            -1.1081   0.2192 -5.0547 0.0000 -1.5378 -0.6785\n",
       "TIEMPO DE ESTUDIO                         -0.3806   0.1202 -3.1671 0.0015 -0.6161 -0.1451\n",
       "BAJA T O D                                 0.5101   0.2505  2.0367 0.0417  0.0192  1.0010\n",
       "REACCIÓN UAEH                              0.1766   0.1143  1.5456 0.1222 -0.0474  0.4006\n",
       "cat_SEXO_Femenino                         -0.2924   0.2447 -1.1947 0.2322 -0.7720  0.1873\n",
       "cat_ESTADO CIVIL_Soltera(o)                0.2990   0.9136  0.3272 0.7435 -1.4917  2.0896\n",
       "cat_DISPOSITIVO_Computadora de escritorio -0.7330   0.4054 -1.8081 0.0706 -1.5275  0.0616\n",
       "cat_DISPOSITIVO_Laptop                    -0.3410   0.2717 -1.2551 0.2094 -0.8734  0.1915\n",
       "cat_TIPO DE POSESIÓN_Ciber                 0.6712   0.7092  0.9465 0.3439 -0.7187  2.0611\n",
       "=========================================================================================\n",
       "\n",
       "\"\"\""
      ]
     },
     "execution_count": 214,
     "metadata": {},
     "output_type": "execute_result"
    }
   ],
   "source": [
    "import statsmodels.api as sm\n",
    "logit_model=sm.Logit(Y,X)\n",
    "result= logit_model.fit()\n",
    "result.summary2()\n"
   ]
  },
  {
   "cell_type": "code",
   "execution_count": 235,
   "id": "9a90a715",
   "metadata": {},
   "outputs": [
    {
     "data": {
      "text/plain": [
       "0.7196969696969697"
      ]
     },
     "execution_count": 235,
     "metadata": {},
     "output_type": "execute_result"
    }
   ],
   "source": [
    "from sklearn import linear_model\n",
    "logit_model= linear_model.LogisticRegression()\n",
    "logit_model.fit(X,Y)\n",
    "logit_model.score(X,Y)"
   ]
  },
  {
   "cell_type": "code",
   "execution_count": 250,
   "id": "3de3d358",
   "metadata": {},
   "outputs": [
    {
     "data": {
      "text/html": [
       "<div>\n",
       "<style scoped>\n",
       "    .dataframe tbody tr th:only-of-type {\n",
       "        vertical-align: middle;\n",
       "    }\n",
       "\n",
       "    .dataframe tbody tr th {\n",
       "        vertical-align: top;\n",
       "    }\n",
       "\n",
       "    .dataframe thead th {\n",
       "        text-align: right;\n",
       "    }\n",
       "</style>\n",
       "<table border=\"1\" class=\"dataframe\">\n",
       "  <thead>\n",
       "    <tr style=\"text-align: right;\">\n",
       "      <th></th>\n",
       "      <th>0</th>\n",
       "      <th>1</th>\n",
       "      <th>2</th>\n",
       "    </tr>\n",
       "  </thead>\n",
       "  <tbody>\n",
       "    <tr>\n",
       "      <th>0</th>\n",
       "      <td>SEMESTRE</td>\n",
       "      <td>[-0.198051362364171]</td>\n",
       "      <td>[0.8203277180847665]</td>\n",
       "    </tr>\n",
       "    <tr>\n",
       "      <th>1</th>\n",
       "      <td>EDAD</td>\n",
       "      <td>[0.2323314200896835]</td>\n",
       "      <td>[1.2615377585098502]</td>\n",
       "    </tr>\n",
       "    <tr>\n",
       "      <th>2</th>\n",
       "      <td>AFECTACIÓN ECONÓMICA</td>\n",
       "      <td>[-0.5846492709780202]</td>\n",
       "      <td>[0.5573012892752647]</td>\n",
       "    </tr>\n",
       "    <tr>\n",
       "      <th>3</th>\n",
       "      <td>CALIFICACIONES</td>\n",
       "      <td>[-1.0285576871208613]</td>\n",
       "      <td>[0.3575222478197095]</td>\n",
       "    </tr>\n",
       "    <tr>\n",
       "      <th>4</th>\n",
       "      <td>TIEMPO DE ESTUDIO</td>\n",
       "      <td>[-0.3586283203623184]</td>\n",
       "      <td>[0.6986339711221524]</td>\n",
       "    </tr>\n",
       "    <tr>\n",
       "      <th>5</th>\n",
       "      <td>BAJA T O D</td>\n",
       "      <td>[0.5419854583248992]</td>\n",
       "      <td>[1.7194173068224725]</td>\n",
       "    </tr>\n",
       "    <tr>\n",
       "      <th>6</th>\n",
       "      <td>REACCIÓN UAEH</td>\n",
       "      <td>[0.21283227269536406]</td>\n",
       "      <td>[1.2371771254556068]</td>\n",
       "    </tr>\n",
       "    <tr>\n",
       "      <th>7</th>\n",
       "      <td>cat_SEXO_Femenino</td>\n",
       "      <td>[-0.2116628028757708]</td>\n",
       "      <td>[0.8092375241317037]</td>\n",
       "    </tr>\n",
       "    <tr>\n",
       "      <th>8</th>\n",
       "      <td>cat_ESTADO CIVIL_Soltera(o)</td>\n",
       "      <td>[0.6082974541045734]</td>\n",
       "      <td>[1.8373006457394478]</td>\n",
       "    </tr>\n",
       "    <tr>\n",
       "      <th>9</th>\n",
       "      <td>cat_DISPOSITIVO_Computadora de escritorio</td>\n",
       "      <td>[-0.5899388570466849]</td>\n",
       "      <td>[0.5543611789779853]</td>\n",
       "    </tr>\n",
       "    <tr>\n",
       "      <th>10</th>\n",
       "      <td>cat_DISPOSITIVO_Laptop</td>\n",
       "      <td>[-0.27470840575123745]</td>\n",
       "      <td>[0.7597936423829078]</td>\n",
       "    </tr>\n",
       "    <tr>\n",
       "      <th>11</th>\n",
       "      <td>cat_TIPO DE POSESIÓN_Ciber</td>\n",
       "      <td>[0.3233169903004476]</td>\n",
       "      <td>[1.3817032680282846]</td>\n",
       "    </tr>\n",
       "  </tbody>\n",
       "</table>\n",
       "</div>"
      ],
      "text/plain": [
       "                                            0                       1  \\\n",
       "0                                    SEMESTRE    [-0.198051362364171]   \n",
       "1                                        EDAD    [0.2323314200896835]   \n",
       "2                        AFECTACIÓN ECONÓMICA   [-0.5846492709780202]   \n",
       "3                              CALIFICACIONES   [-1.0285576871208613]   \n",
       "4                           TIEMPO DE ESTUDIO   [-0.3586283203623184]   \n",
       "5                                  BAJA T O D    [0.5419854583248992]   \n",
       "6                               REACCIÓN UAEH   [0.21283227269536406]   \n",
       "7                           cat_SEXO_Femenino   [-0.2116628028757708]   \n",
       "8                 cat_ESTADO CIVIL_Soltera(o)    [0.6082974541045734]   \n",
       "9   cat_DISPOSITIVO_Computadora de escritorio   [-0.5899388570466849]   \n",
       "10                     cat_DISPOSITIVO_Laptop  [-0.27470840575123745]   \n",
       "11                 cat_TIPO DE POSESIÓN_Ciber    [0.3233169903004476]   \n",
       "\n",
       "                       2  \n",
       "0   [0.8203277180847665]  \n",
       "1   [1.2615377585098502]  \n",
       "2   [0.5573012892752647]  \n",
       "3   [0.3575222478197095]  \n",
       "4   [0.6986339711221524]  \n",
       "5   [1.7194173068224725]  \n",
       "6   [1.2371771254556068]  \n",
       "7   [0.8092375241317037]  \n",
       "8   [1.8373006457394478]  \n",
       "9   [0.5543611789779853]  \n",
       "10  [0.7597936423829078]  \n",
       "11  [1.3817032680282846]  "
      ]
     },
     "execution_count": 250,
     "metadata": {},
     "output_type": "execute_result"
    }
   ],
   "source": [
    "pd.DataFrame(list(zip(X.columns, np.transpose(logit_model.coef_), np.transpose(np.exp(logit_model.coef_)))))"
   ]
  },
  {
   "cell_type": "code",
   "execution_count": 237,
   "id": "5f8a073f",
   "metadata": {},
   "outputs": [
    {
     "data": {
      "text/plain": [
       "0.5808080808080809"
      ]
     },
     "execution_count": 237,
     "metadata": {},
     "output_type": "execute_result"
    }
   ],
   "source": [
    "1-Y.mean()"
   ]
  },
  {
   "cell_type": "code",
   "execution_count": 238,
   "id": "ca513ea0",
   "metadata": {},
   "outputs": [
    {
     "data": {
      "text/plain": [
       "0.6375"
      ]
     },
     "execution_count": 238,
     "metadata": {},
     "output_type": "execute_result"
    }
   ],
   "source": [
    "from sklearn.model_selection import train_test_split\n",
    "from IPython.display import display, Math, Latex\n",
    "X_train, X_test, Y_train, Y_test = train_test_split(X,Y, test_size=0.2, random_state=0)\n",
    "lm= linear_model.LogisticRegression()\n",
    "lm.fit(X_train, Y_train)\n",
    "probs= lm.predict_proba(X_test)\n",
    "prediction= lm.predict(X_test)\n",
    "prediction\n",
    "from sklearn import metrics\n",
    "metrics.accuracy_score(Y_test, prediction)"
   ]
  },
  {
   "cell_type": "markdown",
   "id": "6fc6db40",
   "metadata": {},
   "source": [
    "# VALIDACIÓN CRUZADA"
   ]
  },
  {
   "cell_type": "code",
   "execution_count": 239,
   "id": "3e40990a",
   "metadata": {},
   "outputs": [
    {
     "data": {
      "text/plain": [
       "(0.6919230769230769,\n",
       " 0.6590475056419329,\n",
       " 0.5716911764705882,\n",
       " 0.6096841209602121)"
      ]
     },
     "execution_count": 239,
     "metadata": {},
     "output_type": "execute_result"
    }
   ],
   "source": [
    "from sklearn.model_selection import cross_val_score\n",
    "acc=cross_val_score(linear_model.LogisticRegression(), X, Y, scoring= \"accuracy\", cv=10)\n",
    "pres=cross_val_score(linear_model.LogisticRegression(), X, Y, scoring= \"precision\", cv=10)\n",
    "recall=cross_val_score(linear_model.LogisticRegression(), X, Y, scoring= \"recall\", cv=10)\n",
    "f1=cross_val_score(linear_model.LogisticRegression(), X, Y, scoring= \"f1\", cv=10)\n",
    "scores= acc,pres,recall,f1\n",
    "means=acc.mean(),pres.mean(),recall.mean(),f1.mean()\n",
    "means"
   ]
  },
  {
   "cell_type": "markdown",
   "id": "fe5e70ad",
   "metadata": {},
   "source": [
    "# MATRICES DE CONFUSIÓN Y CURVAS ROC"
   ]
  },
  {
   "cell_type": "code",
   "execution_count": 240,
   "id": "5cf4d585",
   "metadata": {},
   "outputs": [
    {
     "data": {
      "text/plain": [
       "LogisticRegression()"
      ]
     },
     "execution_count": 240,
     "metadata": {},
     "output_type": "execute_result"
    }
   ],
   "source": [
    "X_train, X_test, Y_train, Y_test = train_test_split(X,Y, test_size=0.2, random_state=0)\n",
    "lm= linear_model.LogisticRegression()\n",
    "lm.fit(X_train, Y_train)"
   ]
  },
  {
   "cell_type": "code",
   "execution_count": 241,
   "id": "6e2b700f",
   "metadata": {},
   "outputs": [
    {
     "data": {
      "text/html": [
       "<div>\n",
       "<style scoped>\n",
       "    .dataframe tbody tr th:only-of-type {\n",
       "        vertical-align: middle;\n",
       "    }\n",
       "\n",
       "    .dataframe tbody tr th {\n",
       "        vertical-align: top;\n",
       "    }\n",
       "\n",
       "    .dataframe thead th {\n",
       "        text-align: right;\n",
       "    }\n",
       "</style>\n",
       "<table border=\"1\" class=\"dataframe\">\n",
       "  <thead>\n",
       "    <tr style=\"text-align: right;\">\n",
       "      <th></th>\n",
       "      <th>0</th>\n",
       "      <th>prediction</th>\n",
       "      <th>actual</th>\n",
       "    </tr>\n",
       "  </thead>\n",
       "  <tbody>\n",
       "    <tr>\n",
       "      <th>0</th>\n",
       "      <td>0.176964</td>\n",
       "      <td>0</td>\n",
       "      <td>0</td>\n",
       "    </tr>\n",
       "    <tr>\n",
       "      <th>1</th>\n",
       "      <td>0.791382</td>\n",
       "      <td>1</td>\n",
       "      <td>1</td>\n",
       "    </tr>\n",
       "    <tr>\n",
       "      <th>2</th>\n",
       "      <td>0.174438</td>\n",
       "      <td>0</td>\n",
       "      <td>1</td>\n",
       "    </tr>\n",
       "    <tr>\n",
       "      <th>3</th>\n",
       "      <td>0.038152</td>\n",
       "      <td>0</td>\n",
       "      <td>0</td>\n",
       "    </tr>\n",
       "    <tr>\n",
       "      <th>4</th>\n",
       "      <td>0.399636</td>\n",
       "      <td>1</td>\n",
       "      <td>1</td>\n",
       "    </tr>\n",
       "  </tbody>\n",
       "</table>\n",
       "</div>"
      ],
      "text/plain": [
       "          0  prediction  actual\n",
       "0  0.176964           0       0\n",
       "1  0.791382           1       1\n",
       "2  0.174438           0       1\n",
       "3  0.038152           0       0\n",
       "4  0.399636           1       1"
      ]
     },
     "execution_count": 241,
     "metadata": {},
     "output_type": "execute_result"
    }
   ],
   "source": [
    "probs= lm.predict_proba(X_test)\n",
    "prob=probs[:,1]\n",
    "prob_df=pd.DataFrame(prob)\n",
    "umbral= 0.25\n",
    "prob_df[\"prediction\"] = np.where(prob_df[0]>=umbral,1,0)\n",
    "prob_df[\"actual\"]= list(Y_test)\n",
    "prob_df.head()"
   ]
  },
  {
   "cell_type": "code",
   "execution_count": 242,
   "id": "8857ec14",
   "metadata": {},
   "outputs": [
    {
     "data": {
      "text/html": [
       "<div>\n",
       "<style scoped>\n",
       "    .dataframe tbody tr th:only-of-type {\n",
       "        vertical-align: middle;\n",
       "    }\n",
       "\n",
       "    .dataframe tbody tr th {\n",
       "        vertical-align: top;\n",
       "    }\n",
       "\n",
       "    .dataframe thead th {\n",
       "        text-align: right;\n",
       "    }\n",
       "</style>\n",
       "<table border=\"1\" class=\"dataframe\">\n",
       "  <thead>\n",
       "    <tr style=\"text-align: right;\">\n",
       "      <th>prediction</th>\n",
       "      <th>0</th>\n",
       "      <th>1</th>\n",
       "    </tr>\n",
       "    <tr>\n",
       "      <th>actual</th>\n",
       "      <th></th>\n",
       "      <th></th>\n",
       "    </tr>\n",
       "  </thead>\n",
       "  <tbody>\n",
       "    <tr>\n",
       "      <th>0</th>\n",
       "      <td>21</td>\n",
       "      <td>25</td>\n",
       "    </tr>\n",
       "    <tr>\n",
       "      <th>1</th>\n",
       "      <td>5</td>\n",
       "      <td>29</td>\n",
       "    </tr>\n",
       "  </tbody>\n",
       "</table>\n",
       "</div>"
      ],
      "text/plain": [
       "prediction   0   1\n",
       "actual            \n",
       "0           21  25\n",
       "1            5  29"
      ]
     },
     "execution_count": 242,
     "metadata": {},
     "output_type": "execute_result"
    }
   ],
   "source": [
    "confusion_matrix= pd.crosstab(prob_df.actual, prob_df.prediction)\n",
    "confusion_matrix"
   ]
  },
  {
   "cell_type": "code",
   "execution_count": 243,
   "id": "ec8da2d6",
   "metadata": {},
   "outputs": [
    {
     "data": {
      "text/plain": [
       "5"
      ]
     },
     "execution_count": 243,
     "metadata": {},
     "output_type": "execute_result"
    }
   ],
   "source": [
    "\n",
    "TN=confusion_matrix[0][0] #verdaderos negativo\n",
    "TP=confusion_matrix[1][1] #verdaderos positivos\n",
    "FN=confusion_matrix[0][1] #falsos negativos\n",
    "FP=confusion_matrix[1][0] #falsos positivos\n",
    "FN"
   ]
  },
  {
   "cell_type": "code",
   "execution_count": 244,
   "id": "31fa78cd",
   "metadata": {},
   "outputs": [
    {
     "data": {
      "text/plain": [
       "0.625"
      ]
     },
     "execution_count": 244,
     "metadata": {},
     "output_type": "execute_result"
    }
   ],
   "source": [
    "Accuracy=(TP+TN)/(TP+TN+FN+FP)\n",
    "Accuracy"
   ]
  },
  {
   "cell_type": "code",
   "execution_count": 245,
   "id": "7af1945d",
   "metadata": {},
   "outputs": [
    {
     "data": {
      "text/plain": [
       "0.5370370370370371"
      ]
     },
     "execution_count": 245,
     "metadata": {},
     "output_type": "execute_result"
    }
   ],
   "source": [
    "Presicion= TP/(TP+FP)\n",
    "Presicion"
   ]
  },
  {
   "cell_type": "code",
   "execution_count": 246,
   "id": "498de8f2",
   "metadata": {},
   "outputs": [
    {
     "data": {
      "text/plain": [
       "0.8529411764705882"
      ]
     },
     "execution_count": 246,
     "metadata": {},
     "output_type": "execute_result"
    }
   ],
   "source": [
    "Recall= TP/(TP+FN)\n",
    "Recall"
   ]
  },
  {
   "cell_type": "code",
   "execution_count": 247,
   "id": "0a770d93",
   "metadata": {},
   "outputs": [
    {
     "data": {
      "text/plain": [
       "0.3888888888888889"
      ]
     },
     "execution_count": 247,
     "metadata": {},
     "output_type": "execute_result"
    }
   ],
   "source": [
    "Specifity=TN/(TP+FP)\n",
    "Specifity"
   ]
  },
  {
   "cell_type": "code",
   "execution_count": 248,
   "id": "c9d09520",
   "metadata": {},
   "outputs": [
    {
     "data": {
      "text/plain": [
       "0.6590909090909091"
      ]
     },
     "execution_count": 248,
     "metadata": {},
     "output_type": "execute_result"
    }
   ],
   "source": [
    "F1= 2*(Presicion*Recall)/(Presicion+Recall)\n",
    "F1"
   ]
  },
  {
   "cell_type": "code",
   "execution_count": 249,
   "id": "b6886fce",
   "metadata": {},
   "outputs": [
    {
     "data": {
      "text/plain": [
       "0.45652173913043476"
      ]
     },
     "execution_count": 249,
     "metadata": {},
     "output_type": "execute_result"
    }
   ],
   "source": [
    "espc_1= TN/(TN+FP)\n",
    "espc_1"
   ]
  },
  {
   "cell_type": "code",
   "execution_count": 230,
   "id": "1aa680dd",
   "metadata": {},
   "outputs": [
    {
     "name": "stdout",
     "output_type": "stream",
     "text": [
      "prediction   0   1\n",
      "actual            \n",
      "0           19  27\n",
      "1            5  29\n",
      "prediction   0   1\n",
      "actual            \n",
      "0           32  14\n",
      "1           17  17\n",
      "prediction   0   1\n",
      "actual            \n",
      "0           34  12\n",
      "1           18  16\n",
      "prediction   0   1\n",
      "actual            \n",
      "0           34  12\n",
      "1           18  16\n",
      "prediction   0   1\n",
      "actual            \n",
      "0           35  11\n",
      "1           18  16\n",
      "prediction   0   1\n",
      "actual            \n",
      "0           38   8\n",
      "1           18  16\n",
      "prediction   0   1\n",
      "actual            \n",
      "0           35  11\n",
      "1           18  16\n",
      "prediction   0   1\n",
      "actual            \n",
      "0           38   8\n",
      "1           19  15\n",
      "prediction   0   1\n",
      "actual            \n",
      "0           38   8\n",
      "1           20  14\n",
      "prediction   0   1\n",
      "actual            \n",
      "0           40   6\n",
      "1           20  14\n",
      "prediction   0   1\n",
      "actual            \n",
      "0           41   5\n",
      "1           21  13\n"
     ]
    }
   ],
   "source": [
    "umbrales= [.20, .425, .45, .475, 0.5, .525, 0.5, 0.575, .6, .625, .65]\n",
    "sensitivities=[1]\n",
    "specifities_1=[1]\n",
    "for t in umbrales:\n",
    "    prob_df[\"prediction\"] = np.where(prob_df[0]>=t,1,0)\n",
    "    prob_df[\"actual\"]= list(Y_test)\n",
    "    \n",
    "    confusion_matrix= pd.crosstab(prob_df.actual, prob_df.prediction)\n",
    "    print(confusion_matrix)\n",
    "    TN=confusion_matrix[0][0] #verdaderos negativo \n",
    "    TP=confusion_matrix[1][1] #verdaderos positivos\n",
    "    FN=confusion_matrix[0][1] #falsos negativos\n",
    "    FP=confusion_matrix[1][0] #falsos positivos\n",
    "    \n",
    "    sens= TP/(TP+FN)\n",
    "    sensitivities.append(sens)\n",
    "    espc_1= 1-TN/(TN+FP)\n",
    "    specifities_1.append(espc_1)\n",
    "sensitivities.append(0)\n",
    "specifities_1.append(0)"
   ]
  },
  {
   "cell_type": "code",
   "execution_count": 231,
   "id": "571ca8bc",
   "metadata": {},
   "outputs": [],
   "source": [
    "import matplotlib.pyplot as plt"
   ]
  },
  {
   "cell_type": "code",
   "execution_count": 232,
   "id": "d971d502",
   "metadata": {},
   "outputs": [
    {
     "data": {
      "text/plain": [
       "Text(0.5, 1.0, 'Curva ROC')"
      ]
     },
     "execution_count": 232,
     "metadata": {},
     "output_type": "execute_result"
    },
    {
     "data": {
      "image/png": "[encoded data removed]",
      "text/plain": [
       "<Figure size 432x288 with 1 Axes>"
      ]
     },
     "metadata": {
      "needs_background": "light"
     },
     "output_type": "display_data"
    }
   ],
   "source": [
    "%matplotlib inline\n",
    "plt.plot(specifities_1, sensitivities, marker =\"o\", linestyle= \"--\", )\n",
    "S=[i*0.01 for i in range(100)]\n",
    "E=[i*0.01 for i in range(100)]\n",
    "plt.plot(S,E)\n",
    "plt.xlabel(\"1-Especificidad\")\n",
    "plt.ylabel(\"Sensibilidad\")\n",
    "plt.title(\"Curva ROC\") \n",
    "#la curva ROC puede hacerse más detallada usando ggplot \n",
    "##y se puede calcular el área bajo la curva ROC como metrica de desempeño del modelo"
   ]
  },
  {
   "cell_type": "code",
   "execution_count": 233,
   "id": "938cb7d9",
   "metadata": {},
   "outputs": [
    {
     "ename": "ValueError",
     "evalue": "y should be a 1d array, got an array of shape (80, 3) instead.",
     "output_type": "error",
     "traceback": [
      "\u001b[1;31m---------------------------------------------------------------------------\u001b[0m",
      "\u001b[1;31mValueError\u001b[0m                                Traceback (most recent call last)",
      "\u001b[1;32m<ipython-input-233-bf5bb2eb884d>\u001b[0m in \u001b[0;36m<module>\u001b[1;34m\u001b[0m\n\u001b[0;32m      1\u001b[0m \u001b[1;32mfrom\u001b[0m \u001b[0msklearn\u001b[0m \u001b[1;32mimport\u001b[0m \u001b[0mmetrics\u001b[0m\u001b[1;33m\u001b[0m\u001b[1;33m\u001b[0m\u001b[0m\n\u001b[1;32m----> 2\u001b[1;33m \u001b[0mespc_1\u001b[0m\u001b[1;33m,\u001b[0m\u001b[0msens\u001b[0m\u001b[1;33m,\u001b[0m \u001b[0m_\u001b[0m \u001b[1;33m=\u001b[0m \u001b[0mmetrics\u001b[0m\u001b[1;33m.\u001b[0m\u001b[0mroc_curve\u001b[0m\u001b[1;33m(\u001b[0m\u001b[0mY_test\u001b[0m\u001b[1;33m,\u001b[0m \u001b[0mprob_df\u001b[0m\u001b[1;33m)\u001b[0m\u001b[1;33m\u001b[0m\u001b[1;33m\u001b[0m\u001b[0m\n\u001b[0m\u001b[0;32m      3\u001b[0m \u001b[0mauc\u001b[0m\u001b[1;33m=\u001b[0m \u001b[0mmetrics\u001b[0m\u001b[1;33m.\u001b[0m\u001b[0mauc\u001b[0m\u001b[1;33m(\u001b[0m\u001b[0mespc_1\u001b[0m\u001b[1;33m,\u001b[0m \u001b[0msens\u001b[0m\u001b[1;33m)\u001b[0m\u001b[1;33m\u001b[0m\u001b[1;33m\u001b[0m\u001b[0m\n\u001b[0;32m      4\u001b[0m \u001b[0mauc\u001b[0m\u001b[1;33m\u001b[0m\u001b[1;33m\u001b[0m\u001b[0m\n",
      "\u001b[1;32m~\\anaconda3\\lib\\site-packages\\sklearn\\utils\\validation.py\u001b[0m in \u001b[0;36minner_f\u001b[1;34m(*args, **kwargs)\u001b[0m\n\u001b[0;32m     61\u001b[0m             \u001b[0mextra_args\u001b[0m \u001b[1;33m=\u001b[0m \u001b[0mlen\u001b[0m\u001b[1;33m(\u001b[0m\u001b[0margs\u001b[0m\u001b[1;33m)\u001b[0m \u001b[1;33m-\u001b[0m \u001b[0mlen\u001b[0m\u001b[1;33m(\u001b[0m\u001b[0mall_args\u001b[0m\u001b[1;33m)\u001b[0m\u001b[1;33m\u001b[0m\u001b[1;33m\u001b[0m\u001b[0m\n\u001b[0;32m     62\u001b[0m             \u001b[1;32mif\u001b[0m \u001b[0mextra_args\u001b[0m \u001b[1;33m<=\u001b[0m \u001b[1;36m0\u001b[0m\u001b[1;33m:\u001b[0m\u001b[1;33m\u001b[0m\u001b[1;33m\u001b[0m\u001b[0m\n\u001b[1;32m---> 63\u001b[1;33m                 \u001b[1;32mreturn\u001b[0m \u001b[0mf\u001b[0m\u001b[1;33m(\u001b[0m\u001b[1;33m*\u001b[0m\u001b[0margs\u001b[0m\u001b[1;33m,\u001b[0m \u001b[1;33m**\u001b[0m\u001b[0mkwargs\u001b[0m\u001b[1;33m)\u001b[0m\u001b[1;33m\u001b[0m\u001b[1;33m\u001b[0m\u001b[0m\n\u001b[0m\u001b[0;32m     64\u001b[0m \u001b[1;33m\u001b[0m\u001b[0m\n\u001b[0;32m     65\u001b[0m             \u001b[1;31m# extra_args > 0\u001b[0m\u001b[1;33m\u001b[0m\u001b[1;33m\u001b[0m\u001b[1;33m\u001b[0m\u001b[0m\n",
      "\u001b[1;32m~\\anaconda3\\lib\\site-packages\\sklearn\\metrics\\_ranking.py\u001b[0m in \u001b[0;36mroc_curve\u001b[1;34m(y_true, y_score, pos_label, sample_weight, drop_intermediate)\u001b[0m\n\u001b[0;32m    911\u001b[0m \u001b[1;33m\u001b[0m\u001b[0m\n\u001b[0;32m    912\u001b[0m     \"\"\"\n\u001b[1;32m--> 913\u001b[1;33m     fps, tps, thresholds = _binary_clf_curve(\n\u001b[0m\u001b[0;32m    914\u001b[0m         y_true, y_score, pos_label=pos_label, sample_weight=sample_weight)\n\u001b[0;32m    915\u001b[0m \u001b[1;33m\u001b[0m\u001b[0m\n",
      "\u001b[1;32m~\\anaconda3\\lib\\site-packages\\sklearn\\metrics\\_ranking.py\u001b[0m in \u001b[0;36m_binary_clf_curve\u001b[1;34m(y_true, y_score, pos_label, sample_weight)\u001b[0m\n\u001b[0;32m    693\u001b[0m     \u001b[0mcheck_consistent_length\u001b[0m\u001b[1;33m(\u001b[0m\u001b[0my_true\u001b[0m\u001b[1;33m,\u001b[0m \u001b[0my_score\u001b[0m\u001b[1;33m,\u001b[0m \u001b[0msample_weight\u001b[0m\u001b[1;33m)\u001b[0m\u001b[1;33m\u001b[0m\u001b[1;33m\u001b[0m\u001b[0m\n\u001b[0;32m    694\u001b[0m     \u001b[0my_true\u001b[0m \u001b[1;33m=\u001b[0m \u001b[0mcolumn_or_1d\u001b[0m\u001b[1;33m(\u001b[0m\u001b[0my_true\u001b[0m\u001b[1;33m)\u001b[0m\u001b[1;33m\u001b[0m\u001b[1;33m\u001b[0m\u001b[0m\n\u001b[1;32m--> 695\u001b[1;33m     \u001b[0my_score\u001b[0m \u001b[1;33m=\u001b[0m \u001b[0mcolumn_or_1d\u001b[0m\u001b[1;33m(\u001b[0m\u001b[0my_score\u001b[0m\u001b[1;33m)\u001b[0m\u001b[1;33m\u001b[0m\u001b[1;33m\u001b[0m\u001b[0m\n\u001b[0m\u001b[0;32m    696\u001b[0m     \u001b[0massert_all_finite\u001b[0m\u001b[1;33m(\u001b[0m\u001b[0my_true\u001b[0m\u001b[1;33m)\u001b[0m\u001b[1;33m\u001b[0m\u001b[1;33m\u001b[0m\u001b[0m\n\u001b[0;32m    697\u001b[0m     \u001b[0massert_all_finite\u001b[0m\u001b[1;33m(\u001b[0m\u001b[0my_score\u001b[0m\u001b[1;33m)\u001b[0m\u001b[1;33m\u001b[0m\u001b[1;33m\u001b[0m\u001b[0m\n",
      "\u001b[1;32m~\\anaconda3\\lib\\site-packages\\sklearn\\utils\\validation.py\u001b[0m in \u001b[0;36minner_f\u001b[1;34m(*args, **kwargs)\u001b[0m\n\u001b[0;32m     61\u001b[0m             \u001b[0mextra_args\u001b[0m \u001b[1;33m=\u001b[0m \u001b[0mlen\u001b[0m\u001b[1;33m(\u001b[0m\u001b[0margs\u001b[0m\u001b[1;33m)\u001b[0m \u001b[1;33m-\u001b[0m \u001b[0mlen\u001b[0m\u001b[1;33m(\u001b[0m\u001b[0mall_args\u001b[0m\u001b[1;33m)\u001b[0m\u001b[1;33m\u001b[0m\u001b[1;33m\u001b[0m\u001b[0m\n\u001b[0;32m     62\u001b[0m             \u001b[1;32mif\u001b[0m \u001b[0mextra_args\u001b[0m \u001b[1;33m<=\u001b[0m \u001b[1;36m0\u001b[0m\u001b[1;33m:\u001b[0m\u001b[1;33m\u001b[0m\u001b[1;33m\u001b[0m\u001b[0m\n\u001b[1;32m---> 63\u001b[1;33m                 \u001b[1;32mreturn\u001b[0m \u001b[0mf\u001b[0m\u001b[1;33m(\u001b[0m\u001b[1;33m*\u001b[0m\u001b[0margs\u001b[0m\u001b[1;33m,\u001b[0m \u001b[1;33m**\u001b[0m\u001b[0mkwargs\u001b[0m\u001b[1;33m)\u001b[0m\u001b[1;33m\u001b[0m\u001b[1;33m\u001b[0m\u001b[0m\n\u001b[0m\u001b[0;32m     64\u001b[0m \u001b[1;33m\u001b[0m\u001b[0m\n\u001b[0;32m     65\u001b[0m             \u001b[1;31m# extra_args > 0\u001b[0m\u001b[1;33m\u001b[0m\u001b[1;33m\u001b[0m\u001b[1;33m\u001b[0m\u001b[0m\n",
      "\u001b[1;32m~\\anaconda3\\lib\\site-packages\\sklearn\\utils\\validation.py\u001b[0m in \u001b[0;36mcolumn_or_1d\u001b[1;34m(y, warn)\u001b[0m\n\u001b[0;32m    862\u001b[0m         \u001b[1;32mreturn\u001b[0m \u001b[0mnp\u001b[0m\u001b[1;33m.\u001b[0m\u001b[0mravel\u001b[0m\u001b[1;33m(\u001b[0m\u001b[0my\u001b[0m\u001b[1;33m)\u001b[0m\u001b[1;33m\u001b[0m\u001b[1;33m\u001b[0m\u001b[0m\n\u001b[0;32m    863\u001b[0m \u001b[1;33m\u001b[0m\u001b[0m\n\u001b[1;32m--> 864\u001b[1;33m     raise ValueError(\n\u001b[0m\u001b[0;32m    865\u001b[0m         \u001b[1;34m\"y should be a 1d array, \"\u001b[0m\u001b[1;33m\u001b[0m\u001b[1;33m\u001b[0m\u001b[0m\n\u001b[0;32m    866\u001b[0m         \"got an array of shape {} instead.\".format(shape))\n",
      "\u001b[1;31mValueError\u001b[0m: y should be a 1d array, got an array of shape (80, 3) instead."
     ]
    }
   ],
   "source": [
    "from sklearn import metrics\n",
    "espc_1,sens, _ = metrics.roc_curve(Y_test, prob_df)\n",
    "auc= metrics.auc(espc_1, sens)\n",
    "auc"
   ]
  },
  {
   "cell_type": "code",
   "execution_count": 6,
   "id": "4326ef2e",
   "metadata": {},
   "outputs": [],
   "source": [
    "import sys\n",
    "import warnings\n",
    "\n",
    "if not sys.warnoptions:\n",
    "    warnings.simplefilter(\"ignore\")"
   ]
  },
  {
   "cell_type": "code",
   "execution_count": null,
   "id": "04fb33e2",
   "metadata": {},
   "outputs": [],
   "source": []
  }
 ],
 "metadata": {
  "kernelspec": {
   "display_name": "Python 3",
   "language": "python",
   "name": "python3"
  },
  "language_info": {
   "codemirror_mode": {
    "name": "ipython",
    "version": 3
   },
   "file_extension": ".py",
   "mimetype": "text/x-python",
   "name": "python",
   "nbconvert_exporter": "python",
   "pygments_lexer": "ipython3",
   "version": "3.8.8"
  }
 },
 "nbformat": 4,
 "nbformat_minor": 5
}
